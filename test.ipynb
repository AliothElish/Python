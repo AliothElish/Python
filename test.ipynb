{
 "cells": [
  {
   "cell_type": "code",
   "execution_count": 6,
   "metadata": {},
   "outputs": [],
   "source": [
    "import numpy as np"
   ]
  },
  {
   "cell_type": "code",
   "execution_count": null,
   "metadata": {},
   "outputs": [],
   "source": [
    "dice = [2, 3, 1, 1, 0, -1]"
   ]
  },
  {
   "cell_type": "code",
   "execution_count": 7,
   "metadata": {},
   "outputs": [],
   "source": [
    "def skill_checks(dice):\n",
    "    result = 0\n",
    "    max = 0\n",
    "    max_index = 0\n",
    "    used = [0 for i in range(len(dice))]\n",
    "    for i, each in enumerate(dice):\n",
    "        if each > max:\n",
    "            max = each\n",
    "            max_index = i\n",
    "        if each < 3:\n",
    "            result += each\n",
    "            used[i] = 1\n",
    "    if max > 2:\n",
    "        result += max\n",
    "        used[max_index] = 1\n",
    "    print(used)\n",
    "    return result"
   ]
  },
  {
   "cell_type": "code",
   "execution_count": 12,
   "metadata": {},
   "outputs": [
    {
     "name": "stdout",
     "output_type": "stream",
     "text": [
      "[1, 0, 0, 1, 1]\n"
     ]
    },
    {
     "data": {
      "text/plain": [
       "9"
      ]
     },
     "execution_count": 12,
     "metadata": {},
     "output_type": "execute_result"
    }
   ],
   "source": [
    "skill_checks([1, 3, 3, 2,6])"
   ]
  },
  {
   "cell_type": "code",
   "execution_count": 3,
   "metadata": {},
   "outputs": [
    {
     "data": {
      "text/plain": [
       "{1: 1, 2: 1, 3: 1, 4: 1, 5: 1, 6: 1}"
      ]
     },
     "execution_count": 3,
     "metadata": {},
     "output_type": "execute_result"
    }
   ],
   "source": [
    "total = {}\n",
    "for i in range(1, 7):\n",
    "    result = skill_checks([i])\n",
    "    if result not in total:\n",
    "        total[result] = 1\n",
    "    else:\n",
    "        total[result] += 1\n",
    "total"
   ]
  },
  {
   "cell_type": "code",
   "execution_count": 4,
   "metadata": {},
   "outputs": [
    {
     "data": {
      "text/plain": [
       "{2: 1, 3: 3, 4: 6, 5: 9, 6: 11, 7: 4, 8: 2}"
      ]
     },
     "execution_count": 4,
     "metadata": {},
     "output_type": "execute_result"
    }
   ],
   "source": [
    "total = {}\n",
    "for i in range(1, 7):\n",
    "    for j in range(1, 7):\n",
    "        result = skill_checks([i, j])\n",
    "        if result not in total:\n",
    "            total[result] = 1\n",
    "        else:\n",
    "            total[result] += 1\n",
    "total"
   ]
  },
  {
   "cell_type": "code",
   "execution_count": 5,
   "metadata": {},
   "outputs": [
    {
     "data": {
      "text/plain": [
       "{3: 2, 4: 13, 5: 37, 6: 71, 7: 48, 8: 33, 9: 9, 10: 3}"
      ]
     },
     "execution_count": 5,
     "metadata": {},
     "output_type": "execute_result"
    }
   ],
   "source": [
    "total = {}\n",
    "for i in range(1, 7):\n",
    "    for j in range(1, 7):\n",
    "        for k in range(1, 7):\n",
    "            result = skill_checks([i, j, k])\n",
    "            if result not in total:\n",
    "                total[result] = 1\n",
    "            else:\n",
    "                total[result] += 1\n",
    "total"
   ]
  }
 ],
 "metadata": {
  "kernelspec": {
   "display_name": "Python 3",
   "language": "python",
   "name": "python3"
  },
  "language_info": {
   "codemirror_mode": {
    "name": "ipython",
    "version": 3
   },
   "file_extension": ".py",
   "mimetype": "text/x-python",
   "name": "python",
   "nbconvert_exporter": "python",
   "pygments_lexer": "ipython3",
   "version": "3.10.6"
  }
 },
 "nbformat": 4,
 "nbformat_minor": 2
}
