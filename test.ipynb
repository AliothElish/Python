{
 "cells": [
  {
   "cell_type": "code",
   "execution_count": null,
   "metadata": {},
   "outputs": [],
   "source": [
    "import numpy as np"
   ]
  },
  {
   "cell_type": "code",
   "execution_count": null,
   "metadata": {},
   "outputs": [],
   "source": [
    "focus = [2, 3, 1, 1, 0, 0]\n",
    "health = [0, 0, 0, 0, 0, 1]"
   ]
  },
  {
   "cell_type": "code",
   "execution_count": null,
   "metadata": {},
   "outputs": [],
   "source": [
    "def skill_checks(dice):\n",
    "    result = 0\n",
    "    max = 0\n",
    "    max_index = 0\n",
    "    used = [0 for i in range(len(dice))]\n",
    "    for i, each in enumerate(dice):\n",
    "        if each > max:\n",
    "            max = each\n",
    "            max_index = i\n",
    "        if each < 3:\n",
    "            result += each\n",
    "            used[i] = 1\n",
    "    if max > 2:\n",
    "        result += max\n",
    "        used[max_index] = 1\n",
    "    # print(used)\n",
    "    return result"
   ]
  },
  {
   "cell_type": "code",
   "execution_count": null,
   "metadata": {},
   "outputs": [],
   "source": [
    "def pass_rate(dice_dict, dice_num, check_num):\n",
    "\n",
    "    total = 0\n",
    "    for key in dice_dict:\n",
    "        if key >= check_num:\n",
    "            total += dice_dict[key]\n",
    "    return total / 6**dice_num"
   ]
  },
  {
   "cell_type": "code",
   "execution_count": null,
   "metadata": {},
   "outputs": [],
   "source": [
    "skill_checks([1, 3, 3, 2, 6, 4])"
   ]
  },
  {
   "cell_type": "code",
   "execution_count": null,
   "metadata": {},
   "outputs": [],
   "source": [
    "total = {}\n",
    "for i in range(1, 7):\n",
    "    result = skill_checks([i])\n",
    "    if result not in total:\n",
    "        total[result] = 1\n",
    "    else:\n",
    "        total[result] += 1\n",
    "total"
   ]
  },
  {
   "cell_type": "code",
   "execution_count": null,
   "metadata": {},
   "outputs": [],
   "source": [
    "pass_rate(total, 1, 3)"
   ]
  },
  {
   "cell_type": "code",
   "execution_count": null,
   "metadata": {},
   "outputs": [],
   "source": [
    "total = {}\n",
    "for i in range(1, 7):\n",
    "    for j in range(1, 7):\n",
    "        result = skill_checks([i, j])\n",
    "        if result not in total:\n",
    "            total[result] = 1\n",
    "        else:\n",
    "            total[result] += 1\n",
    "total"
   ]
  },
  {
   "cell_type": "code",
   "execution_count": null,
   "metadata": {},
   "outputs": [],
   "source": [
    "pass_rate(total, 2, 5)"
   ]
  },
  {
   "cell_type": "code",
   "execution_count": null,
   "metadata": {},
   "outputs": [],
   "source": [
    "total = {}\n",
    "for i in range(1, 7):\n",
    "    for j in range(1, 7):\n",
    "        for k in range(1, 7):\n",
    "            result = skill_checks([i, j, k])\n",
    "            if result not in total:\n",
    "                total[result] = 1\n",
    "            else:\n",
    "                total[result] += 1\n",
    "total"
   ]
  },
  {
   "cell_type": "code",
   "execution_count": null,
   "metadata": {},
   "outputs": [],
   "source": [
    "pass_rate(total, 3, 6)"
   ]
  },
  {
   "cell_type": "code",
   "execution_count": null,
   "metadata": {},
   "outputs": [],
   "source": [
    "total = {}\n",
    "for i in range(1, 7):\n",
    "    for j in range(1, 7):\n",
    "        for k in range(1, 7):\n",
    "            for l in range(1, 7):\n",
    "                result = skill_checks([i, j, k, l])\n",
    "                if result not in total:\n",
    "                    total[result] = 1\n",
    "                else:\n",
    "                    total[result] += 1\n",
    "total"
   ]
  },
  {
   "cell_type": "code",
   "execution_count": null,
   "metadata": {},
   "outputs": [],
   "source": [
    "pass_rate(total, 4, 7)"
   ]
  },
  {
   "cell_type": "code",
   "execution_count": null,
   "metadata": {},
   "outputs": [],
   "source": [
    "total = {}\n",
    "for i in range(1, 7):\n",
    "    for j in range(1, 7):\n",
    "        for k in range(1, 7):\n",
    "            for l in range(1, 7):\n",
    "                for m in range(1, 7):\n",
    "                    result = skill_checks([i, j, k, l, m])\n",
    "                    if result not in total:\n",
    "                        total[result] = 1\n",
    "                    else:\n",
    "                        total[result] += 1\n",
    "total"
   ]
  },
  {
   "cell_type": "code",
   "execution_count": null,
   "metadata": {},
   "outputs": [],
   "source": [
    "pass_rate(total, 5, 8)"
   ]
  },
  {
   "cell_type": "code",
   "execution_count": 7,
   "metadata": {},
   "outputs": [],
   "source": [
    "decks = [\n",
    "    [1, 7],\n",
    "    [8, 9],\n",
    "    [2, 7],\n",
    "    [8, 10],\n",
    "    [7, 10],\n",
    "    [2, 9],\n",
    "    [10, 11],\n",
    "    [6, 10],\n",
    "    [4, 5],\n",
    "    [5, 10],\n",
    "    [9, 10],\n",
    "    [8, 10],\n",
    "    [6, 8],\n",
    "    [8, 10],\n",
    "    [3, 11],\n",
    "    [5, 11],\n",
    "    [5, 11],\n",
    "    [2, 9],\n",
    "    [10, 11],\n",
    "    [10, 11],\n",
    "    [1, 2],\n",
    "    [5, 10],\n",
    "    [2, 7],\n",
    "    [3, 12],\n",
    "]"
   ]
  },
  {
   "cell_type": "code",
   "execution_count": 10,
   "metadata": {},
   "outputs": [
    {
     "data": {
      "text/plain": [
       "24"
      ]
     },
     "execution_count": 10,
     "metadata": {},
     "output_type": "execute_result"
    }
   ],
   "source": [
    "len(decks)"
   ]
  },
  {
   "cell_type": "code",
   "execution_count": 30,
   "metadata": {},
   "outputs": [
    {
     "data": {
      "text/plain": [
       "4"
      ]
     },
     "execution_count": 30,
     "metadata": {},
     "output_type": "execute_result"
    }
   ],
   "source": [
    "decks = [\n",
    "    [1, 7],\n",
    "    [2, 7],\n",
    "    [2, 9],\n",
    "    [1, 2],\n",
    "]\n",
    "len(decks)"
   ]
  },
  {
   "cell_type": "code",
   "execution_count": 31,
   "metadata": {},
   "outputs": [
    {
     "name": "stdout",
     "output_type": "stream",
     "text": [
      "2\n",
      "3\n",
      "0\n",
      "0\n",
      "0\n",
      "0\n",
      "2\n",
      "0\n",
      "1\n",
      "0\n",
      "0\n",
      "0\n"
     ]
    }
   ],
   "source": [
    "for i in range(12):\n",
    "    count = 0\n",
    "    for each in decks:\n",
    "        if i + 1 in each:\n",
    "            count += 1\n",
    "    print(count)"
   ]
  },
  {
   "cell_type": "code",
   "execution_count": 19,
   "metadata": {},
   "outputs": [
    {
     "data": {
      "text/plain": [
       "4"
      ]
     },
     "execution_count": 19,
     "metadata": {},
     "output_type": "execute_result"
    }
   ],
   "source": [
    "decks = [\n",
    "    [1, 7],\n",
    "    [2, 7],\n",
    "    [2, 9],\n",
    "    [1, 2],\n",
    "]\n",
    "len(decks)"
   ]
  },
  {
   "cell_type": "code",
   "execution_count": 20,
   "metadata": {},
   "outputs": [
    {
     "name": "stdout",
     "output_type": "stream",
     "text": [
      "2\n",
      "3\n",
      "0\n",
      "0\n",
      "0\n",
      "0\n",
      "2\n",
      "0\n",
      "1\n",
      "0\n",
      "0\n",
      "0\n"
     ]
    }
   ],
   "source": [
    "for i in range(12):\n",
    "    count = 0\n",
    "    for each in decks:\n",
    "        if i + 1 in each:\n",
    "            count += 1\n",
    "    print(count)"
   ]
  }
 ],
 "metadata": {
  "kernelspec": {
   "display_name": "Python 3",
   "language": "python",
   "name": "python3"
  },
  "language_info": {
   "codemirror_mode": {
    "name": "ipython",
    "version": 3
   },
   "file_extension": ".py",
   "mimetype": "text/x-python",
   "name": "python",
   "nbconvert_exporter": "python",
   "pygments_lexer": "ipython3",
   "version": "3.10.6"
  }
 },
 "nbformat": 4,
 "nbformat_minor": 2
}
