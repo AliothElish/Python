{
 "cells": [
  {
   "cell_type": "code",
   "execution_count": 1,
   "metadata": {},
   "outputs": [],
   "source": [
    "rounds = 1\n",
    "TR = 20\n",
    "\n",
    "Corporation = 63\n",
    "Prelude = 21\n",
    "\n",
    "Temperature = -30\n",
    "Temperature_max = 8\n",
    "Ocean = 0\n",
    "Ocean_max = 9\n",
    "Oxygen = 0\n",
    "Oxygen_max = 14"
   ]
  },
  {
   "cell_type": "code",
   "execution_count": 2,
   "metadata": {},
   "outputs": [],
   "source": [
    "Temperature_step = (Temperature_max - Temperature) // 2\n",
    "Ocean_step = Ocean_max - Ocean\n",
    "Oxygen_step = Oxygen_max - Oxygen"
   ]
  },
  {
   "cell_type": "code",
   "execution_count": 3,
   "metadata": {},
   "outputs": [],
   "source": [
    "Temperature_step -= 1\n",
    "Ocean_step -= 1\n",
    "plants = (4 * 2 + 3 + 6 * 2 + 4) // 8\n",
    "Oxygen_step -= plants"
   ]
  },
  {
   "cell_type": "code",
   "execution_count": 4,
   "metadata": {},
   "outputs": [
    {
     "data": {
      "text/plain": [
       "715"
      ]
     },
     "execution_count": 4,
     "metadata": {},
     "output_type": "execute_result"
    }
   ],
   "source": [
    "Temperature_step * 14 + Ocean_step * 18 + Oxygen_step * 23 + 8 * 4 + 14 + 20"
   ]
  },
  {
   "cell_type": "code",
   "execution_count": 5,
   "metadata": {},
   "outputs": [],
   "source": [
    "MC = Corporation + Prelude * 2"
   ]
  },
  {
   "cell_type": "code",
   "execution_count": 6,
   "metadata": {},
   "outputs": [],
   "source": [
    "TR += MC // 14\n",
    "MC %= 14\n",
    "heat_production = 2"
   ]
  },
  {
   "cell_type": "code",
   "execution_count": null,
   "metadata": {},
   "outputs": [],
   "source": []
  }
 ],
 "metadata": {
  "kernelspec": {
   "display_name": "Python 3",
   "language": "python",
   "name": "python3"
  },
  "language_info": {
   "codemirror_mode": {
    "name": "ipython",
    "version": 3
   },
   "file_extension": ".py",
   "mimetype": "text/x-python",
   "name": "python",
   "nbconvert_exporter": "python",
   "pygments_lexer": "ipython3",
   "version": "3.10.6"
  }
 },
 "nbformat": 4,
 "nbformat_minor": 2
}
