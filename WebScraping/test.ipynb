{
 "cells": [
  {
   "cell_type": "code",
   "execution_count": 1,
   "metadata": {},
   "outputs": [],
   "source": [
    "from datetime import datetime, timezone\n",
    "import math\n"
   ]
  },
  {
   "cell_type": "code",
   "execution_count": null,
   "metadata": {},
   "outputs": [
    {
     "data": {
      "text/plain": [
       "235"
      ]
     },
     "execution_count": 45,
     "metadata": {},
     "output_type": "execute_result"
    }
   ],
   "source": [
    "current_time = datetime.now(timezone.utc)\n",
    "\n",
    "\n",
    "time_datetime = datetime.fromisoformat(\"2024-04-28 11:09:36+00:00\")\n",
    "lower_old_time = (current_time - time_datetime).days\n",
    "lower_old_likes = 10\n",
    "\n",
    "time_datetime = datetime.fromisoformat(\"2024-04-28 11:09:36+00:00\")\n",
    "lower_new_time = (current_time - time_datetime).days  # prefer this one\n",
    "lower_new_likes = 10\n",
    "\n",
    "\n",
    "time_datetime = datetime.fromisoformat(\"2024-04-28 11:09:36+00:00\")\n",
    "upper_old_time = (current_time - time_datetime).days  # prefer this one\n",
    "upper_old_likes = 10\n",
    "\n",
    "time_datetime = datetime.fromisoformat(\"2024-04-28 11:09:36+00:00\")\n",
    "upper_new_time = (current_time - time_datetime).days\n",
    "upper_new_likes = 10"
   ]
  },
  {
   "cell_type": "code",
   "execution_count": 33,
   "metadata": {},
   "outputs": [
    {
     "data": {
      "text/plain": [
       "1.9340481928429154"
      ]
     },
     "execution_count": 33,
     "metadata": {},
     "output_type": "execute_result"
    }
   ],
   "source": [
    "offset = 1\n",
    "math.log(1497 / 218) / math.log((1724 + offset) / (636 + offset))"
   ]
  },
  {
   "cell_type": "code",
   "execution_count": 46,
   "metadata": {},
   "outputs": [
    {
     "name": "stdout",
     "output_type": "stream",
     "text": [
      "offset: 136\n",
      "2.379270564274194\n",
      "2.3792781128043026\n"
     ]
    }
   ],
   "source": [
    "for offset in range(1, 150):\n",
    "    lower = math.log(1084 / 75) / math.log((1004 + offset) / (235 + offset))\n",
    "    upper = math.log(256 / 5) / math.log((664 + offset) / (17 + offset))\n",
    "    if lower < upper:\n",
    "        print(\"offset:\", offset)\n",
    "        print(lower)\n",
    "        print(upper)\n",
    "        break"
   ]
  }
 ],
 "metadata": {
  "kernelspec": {
   "display_name": "base",
   "language": "python",
   "name": "python3"
  },
  "language_info": {
   "codemirror_mode": {
    "name": "ipython",
    "version": 3
   },
   "file_extension": ".py",
   "mimetype": "text/x-python",
   "name": "python",
   "nbconvert_exporter": "python",
   "pygments_lexer": "ipython3",
   "version": "3.12.7"
  }
 },
 "nbformat": 4,
 "nbformat_minor": 2
}
