{
 "cells": [
  {
   "cell_type": "code",
   "execution_count": 1,
   "metadata": {},
   "outputs": [],
   "source": [
    "import math\n",
    "from datetime import datetime, timezone"
   ]
  },
  {
   "cell_type": "code",
   "execution_count": 2,
   "metadata": {},
   "outputs": [],
   "source": [
    "current_time = datetime.now(timezone.utc)\n",
    "time_datetime = datetime.fromisoformat(\"2016-09-02T13:17:02+00:00\")\n",
    "max_offset = (current_time - time_datetime).days"
   ]
  },
  {
   "cell_type": "code",
   "execution_count": 3,
   "metadata": {},
   "outputs": [],
   "source": [
    "time_datetime = datetime.fromisoformat(\"2021-09-18 15:48:18+00:00\")\n",
    "lower_old_time = (current_time - time_datetime).days\n",
    "lower_old_likes = 444\n",
    "\n",
    "time_datetime = datetime.fromisoformat(\"2023-11-16 15:24:19+00:00\")\n",
    "lower_new_time = (current_time - time_datetime).days  # prefer this one\n",
    "lower_new_likes = 28\n",
    "\n",
    "\n",
    "time_datetime = datetime.fromisoformat(\"2023-07-07 17:10:22+00:00\")\n",
    "upper_old_time = (current_time - time_datetime).days  # prefer this one\n",
    "upper_old_likes = 102\n",
    "\n",
    "time_datetime = datetime.fromisoformat(\"2024-09-17 05:55:44+00:00\")\n",
    "upper_new_time = (current_time - time_datetime).days\n",
    "upper_new_likes = 14"
   ]
  },
  {
   "cell_type": "code",
   "execution_count": null,
   "metadata": {},
   "outputs": [
    {
     "name": "stdout",
     "output_type": "stream",
     "text": [
      "offset: 1262\n",
      "7.117580691897298\n",
      "7.118180933121054\n"
     ]
    }
   ],
   "source": [
    "for offset in range(1, max_offset):\n",
    "    lower = math.log(lower_old_likes / lower_new_likes) / math.log(\n",
    "        (lower_old_time + offset) / (lower_new_time + offset)\n",
    "    )\n",
    "    upper = math.log(upper_old_likes / upper_new_likes) / math.log(\n",
    "        (upper_old_time + offset) / (upper_new_time + offset)\n",
    "    )\n",
    "    if lower < upper:\n",
    "        print(\"offset:\", offset)\n",
    "        print(lower)\n",
    "        print(upper)\n",
    "        break"
   ]
  }
 ],
 "metadata": {
  "kernelspec": {
   "display_name": "Python 3",
   "language": "python",
   "name": "python3"
  },
  "language_info": {
   "codemirror_mode": {
    "name": "ipython",
    "version": 3
   },
   "file_extension": ".py",
   "mimetype": "text/x-python",
   "name": "python",
   "nbconvert_exporter": "python",
   "pygments_lexer": "ipython3",
   "version": "3.10.6"
  }
 },
 "nbformat": 4,
 "nbformat_minor": 2
}
