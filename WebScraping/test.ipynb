{
 "cells": [
  {
   "cell_type": "code",
   "execution_count": 1,
   "metadata": {},
   "outputs": [],
   "source": [
    "import math\n",
    "from datetime import datetime, timezone"
   ]
  },
  {
   "cell_type": "code",
   "execution_count": 2,
   "metadata": {},
   "outputs": [],
   "source": [
    "current_time = datetime.now(timezone.utc)\n",
    "\n",
    "\n",
    "time_datetime = datetime.fromisoformat(\"2021-11-02 20:51:24+00:00\")\n",
    "lower_old_time = (current_time - time_datetime).days\n",
    "lower_old_likes = 721\n",
    "\n",
    "time_datetime = datetime.fromisoformat(\"2023-03-24 16:49:36+00:00\")\n",
    "lower_new_time = (current_time - time_datetime).days  # prefer this one\n",
    "lower_new_likes = 218\n",
    "\n",
    "\n",
    "time_datetime = datetime.fromisoformat(\"2023-03-24 16:49:36+00:00\")\n",
    "upper_old_time = (current_time - time_datetime).days  # prefer this one\n",
    "upper_old_likes = 218\n",
    "\n",
    "time_datetime = datetime.fromisoformat(\"2024-08-27 23:15:37+00:00\")\n",
    "upper_new_time = (current_time - time_datetime).days\n",
    "upper_new_likes = 12"
   ]
  },
  {
   "cell_type": "code",
   "execution_count": 3,
   "metadata": {},
   "outputs": [
    {
     "name": "stdout",
     "output_type": "stream",
     "text": [
      "offset: 82\n",
      "2.243851819158475\n",
      "2.2460293897995633\n"
     ]
    }
   ],
   "source": [
    "for offset in range(1, 1000000):\n",
    "    lower = math.log(lower_old_likes / lower_new_likes) / math.log(\n",
    "        (lower_old_time + offset) / (lower_new_time + offset)\n",
    "    )\n",
    "    upper = math.log(upper_old_likes / upper_new_likes) / math.log(\n",
    "        (upper_old_time + offset) / (upper_new_time + offset)\n",
    "    )\n",
    "    if lower < upper:\n",
    "        print(\"offset:\", offset)\n",
    "        print(lower)\n",
    "        print(upper)\n",
    "        break"
   ]
  }
 ],
 "metadata": {
  "kernelspec": {
   "display_name": "base",
   "language": "python",
   "name": "python3"
  },
  "language_info": {
   "codemirror_mode": {
    "name": "ipython",
    "version": 3
   },
   "file_extension": ".py",
   "mimetype": "text/x-python",
   "name": "python",
   "nbconvert_exporter": "python",
   "pygments_lexer": "ipython3",
   "version": "3.12.7"
  }
 },
 "nbformat": 4,
 "nbformat_minor": 2
}
