{
 "cells": [
  {
   "cell_type": "code",
   "execution_count": 1,
   "metadata": {},
   "outputs": [],
   "source": [
    "import math\n",
    "from datetime import datetime, timezone"
   ]
  },
  {
   "cell_type": "code",
   "execution_count": 2,
   "metadata": {},
   "outputs": [],
   "source": [
    "current_time = datetime.now(timezone.utc)\n",
    "time_datetime = datetime.fromisoformat(\"2016-09-02T13:17:02+00:00\")\n",
    "max_offset = (current_time - time_datetime).days"
   ]
  },
  {
   "cell_type": "code",
   "execution_count": 3,
   "metadata": {},
   "outputs": [],
   "source": [
    "time_datetime = datetime.fromisoformat(\"2022-03-21 23:35:41+00:00\")\n",
    "lower_old_time = (current_time - time_datetime).days\n",
    "lower_old_likes = 1088\n",
    "\n",
    "time_datetime = datetime.fromisoformat(\"2024-04-28 11:09:36+00:00\")\n",
    "lower_new_time = (current_time - time_datetime).days  # prefer this one\n",
    "lower_new_likes = 75\n",
    "\n",
    "\n",
    "time_datetime = datetime.fromisoformat(\"2023-03-31 19:00:33+00:00\")\n",
    "upper_old_time = (current_time - time_datetime).days  # prefer this one\n",
    "upper_old_likes = 162\n",
    "\n",
    "time_datetime = datetime.fromisoformat(\"2024-12-10 08:33:04+00:00\")\n",
    "upper_new_time = (current_time - time_datetime).days\n",
    "upper_new_likes = 4"
   ]
  },
  {
   "cell_type": "code",
   "execution_count": 4,
   "metadata": {},
   "outputs": [
    {
     "name": "stdout",
     "output_type": "stream",
     "text": [
      "offset: 177\n",
      "2.547384566306881\n",
      "2.547675969333187\n"
     ]
    }
   ],
   "source": [
    "for offset in range(1, max_offset):\n",
    "    lower = math.log(lower_old_likes / lower_new_likes) / math.log(\n",
    "        (lower_old_time + offset) / (lower_new_time + offset)\n",
    "    )\n",
    "    upper = math.log(upper_old_likes / upper_new_likes) / math.log(\n",
    "        (upper_old_time + offset) / (upper_new_time + offset)\n",
    "    )\n",
    "    if lower < upper:\n",
    "        print(\"offset:\", offset)\n",
    "        print(lower)\n",
    "        print(upper)\n",
    "        break"
   ]
  }
 ],
 "metadata": {
  "kernelspec": {
   "display_name": "Python 3",
   "language": "python",
   "name": "python3"
  },
  "language_info": {
   "codemirror_mode": {
    "name": "ipython",
    "version": 3
   },
   "file_extension": ".py",
   "mimetype": "text/x-python",
   "name": "python",
   "nbconvert_exporter": "python",
   "pygments_lexer": "ipython3",
   "version": "3.10.6"
  }
 },
 "nbformat": 4,
 "nbformat_minor": 2
}
